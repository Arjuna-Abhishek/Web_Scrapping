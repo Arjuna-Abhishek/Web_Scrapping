{
 "cells": [
  {
   "cell_type": "code",
   "execution_count": 2,
   "metadata": {
    "id": "JWBW9LcQd_Bl"
   },
   "outputs": [],
   "source": [
    "import requests\n",
    "from bs4 import BeautifulSoup"
   ]
  },
  {
   "cell_type": "code",
   "execution_count": 3,
   "metadata": {
    "id": "S99OCj-seB97"
   },
   "outputs": [],
   "source": [
    "html = requests.get('https://www.imdb.com/chart/top/?ref_=nv_mv_250').content\n",
    "soup = BeautifulSoup(html, 'html.parser')"
   ]
  },
  {
   "cell_type": "code",
   "execution_count": 4,
   "metadata": {
    "id": "fckTQTygeKyh"
   },
   "outputs": [],
   "source": [
    "rows = soup.tbody.find_all('tr')"
   ]
  },
  {
   "cell_type": "code",
   "execution_count": 5,
   "metadata": {
    "id": "M1sD-EqMeK6C"
   },
   "outputs": [],
   "source": [
    "for row in rows:\n",
    "    column = row.find('td', 'titleColumn')\n",
    "    title = column.a.text\n",
    "    year = column.span.text\n",
    "\n",
    "for row in rows:\n",
    "  \n",
    "  column2 = row.find('td', 'ratingColumn')\n",
    "  rating = column2.strong.text\n",
    "  "
   ]
  },
  {
   "cell_type": "code",
   "execution_count": 57,
   "metadata": {
    "colab": {
     "base_uri": "https://localhost:8080/"
    },
    "id": "H8poAbOqeK9i",
    "outputId": "ffdc1541-9b3d-4f88-dcc7-40803f46f17f"
   },
   "outputs": [
    {
     "name": "stdout",
     "output_type": "stream",
     "text": [
      "The Shawshank Redemption (1994) 9.2\n",
      "The Godfather (1972) 9.2\n",
      "The Dark Knight (2008) 9.0\n",
      "The Godfather Part II (1974) 9.0\n",
      "12 Angry Men (1957) 9.0\n",
      "Schindler's List (1993) 8.9\n",
      "The Lord of the Rings: The Return of the King (2003) 8.9\n",
      "Pulp Fiction (1994) 8.8\n",
      "The Lord of the Rings: The Fellowship of the Ring (2001) 8.8\n",
      "The Good, the Bad and the Ugly (1966) 8.8\n",
      "Forrest Gump (1994) 8.8\n",
      "Fight Club (1999) 8.7\n",
      "The Lord of the Rings: The Two Towers (2002) 8.7\n",
      "Inception (2010) 8.7\n",
      "Star Wars: Episode V - The Empire Strikes Back (1980) 8.7\n",
      "The Matrix (1999) 8.7\n",
      "Goodfellas (1990) 8.7\n",
      "One Flew Over the Cuckoo's Nest (1975) 8.6\n",
      "Se7en (1995) 8.6\n",
      "Seven Samurai (1954) 8.6\n",
      "It's a Wonderful Life (1946) 8.6\n",
      "The Silence of the Lambs (1991) 8.6\n",
      "City of God (2002) 8.6\n",
      "Saving Private Ryan (1998) 8.6\n",
      "Life Is Beautiful (1997) 8.6\n",
      "Interstellar (2014) 8.6\n",
      "The Green Mile (1999) 8.6\n",
      "Star Wars (1977) 8.6\n",
      "Terminator 2: Judgment Day (1991) 8.5\n",
      "Back to the Future (1985) 8.5\n",
      "Spirited Away (2001) 8.5\n",
      "Psycho (1960) 8.5\n",
      "The Pianist (2002) 8.5\n",
      "Parasite (2019) 8.5\n",
      "Léon: The Professional (1994) 8.5\n",
      "The Lion King (1994) 8.5\n",
      "Gladiator (2000) 8.5\n",
      "American History X (1998) 8.5\n",
      "The Departed (2006) 8.5\n",
      "The Usual Suspects (1995) 8.5\n",
      "The Prestige (2006) 8.5\n",
      "Whiplash (2014) 8.5\n",
      "Casablanca (1942) 8.5\n",
      "Harakiri (1962) 8.5\n",
      "Grave of the Fireflies (1988) 8.5\n",
      "The Intouchables (2011) 8.5\n",
      "Modern Times (1936) 8.4\n",
      "Once Upon a Time in the West (1968) 8.4\n",
      "Rear Window (1954) 8.4\n",
      "Cinema Paradiso (1988) 8.4\n",
      "Alien (1979) 8.4\n",
      "City Lights (1931) 8.4\n",
      "Apocalypse Now (1979) 8.4\n",
      "Memento (2000) 8.4\n",
      "Raiders of the Lost Ark (1981) 8.4\n",
      "Django Unchained (2012) 8.4\n",
      "WALL·E (2008) 8.4\n",
      "The Lives of Others (2006) 8.4\n",
      "Sunset Blvd. (1950) 8.4\n",
      "Paths of Glory (1957) 8.4\n",
      "The Shining (1980) 8.4\n",
      "The Great Dictator (1940) 8.4\n",
      "Avengers: Infinity War (2018) 8.4\n",
      "Witness for the Prosecution (1957) 8.4\n",
      "Aliens (1986) 8.3\n",
      "Spider-Man: Into the Spider-Verse (2018) 8.3\n",
      "American Beauty (1999) 8.3\n",
      "Dr. Strangelove or: How I Learned to Stop Worrying and Love the Bomb (1964) 8.3\n",
      "The Dark Knight Rises (2012) 8.3\n",
      "Oldboy (2003) 8.3\n",
      "Amadeus (1984) 8.3\n",
      "Inglourious Basterds (2009) 8.3\n",
      "Joker (2019) 8.3\n",
      "Coco (2017) 8.3\n",
      "Toy Story (1995) 8.3\n",
      "Braveheart (1995) 8.3\n",
      "The Boat (1981) 8.3\n",
      "Avengers: Endgame (2019) 8.3\n",
      "Princess Mononoke (1997) 8.3\n",
      "Once Upon a Time in America (1984) 8.3\n",
      "Good Will Hunting (1997) 8.3\n",
      "Your Name. (2016) 8.3\n",
      "Top Gun: Maverick (2022) 8.3\n",
      "Requiem for a Dream (2000) 8.3\n",
      "Singin' in the Rain (1952) 8.3\n",
      "3 Idiots (2009) 8.3\n",
      "Toy Story 3 (2010) 8.3\n",
      "High and Low (1963) 8.3\n",
      "Star Wars: Episode VI - Return of the Jedi (1983) 8.3\n",
      "Capernaum (2018) 8.3\n",
      "2001: A Space Odyssey (1968) 8.3\n",
      "Eternal Sunshine of the Spotless Mind (2004) 8.3\n",
      "Reservoir Dogs (1992) 8.3\n",
      "The Hunt (2012) 8.3\n",
      "Come and See (1985) 8.3\n",
      "Citizen Kane (1941) 8.3\n",
      "M (1931) 8.3\n",
      "Lawrence of Arabia (1962) 8.3\n",
      "North by Northwest (1959) 8.2\n",
      "Vertigo (1958) 8.2\n",
      "Amélie (2001) 8.2\n",
      "A Clockwork Orange (1971) 8.2\n",
      "The Apartment (1960) 8.2\n",
      "Ikiru (1952) 8.2\n",
      "Double Indemnity (1944) 8.2\n",
      "Full Metal Jacket (1987) 8.2\n",
      "Hamilton (2020) 8.2\n",
      "Scarface (1983) 8.2\n",
      "To Kill a Mockingbird (1962) 8.2\n",
      "The Sting (1973) 8.2\n",
      "Incendies (2010) 8.2\n",
      "Up (2009) 8.2\n",
      "Heat (1995) 8.2\n",
      "Taxi Driver (1976) 8.2\n",
      "A Separation (2011) 8.2\n",
      "Metropolis (1927) 8.2\n",
      "L.A. Confidential (1997) 8.2\n",
      "Die Hard (1988) 8.2\n",
      "Snatch (2000) 8.2\n",
      "Bicycle Thieves (1948) 8.2\n",
      "Indiana Jones and the Last Crusade (1989) 8.2\n",
      "Like Stars on Earth (2007) 8.2\n",
      "1917 (2019) 8.2\n",
      "Downfall (2004) 8.2\n",
      "For a Few Dollars More (1965) 8.2\n",
      "Dangal (2016) 8.2\n",
      "Batman Begins (2005) 8.2\n",
      "The Kid (1921) 8.2\n",
      "Some Like It Hot (1959) 8.2\n",
      "The Father (2020) 8.2\n",
      "All About Eve (1950) 8.2\n",
      "Green Book (2018) 8.2\n",
      "The Wolf of Wall Street (2013) 8.2\n",
      "Judgment at Nuremberg (1961) 8.2\n",
      "Ran (1985) 8.2\n",
      "Casino (1995) 8.2\n",
      "Pan's Labyrinth (2006) 8.2\n",
      "Unforgiven (1992) 8.2\n",
      "There Will Be Blood (2007) 8.2\n",
      "The Truman Show (1998) 8.2\n",
      "The Sixth Sense (1999) 8.2\n",
      "A Beautiful Mind (2001) 8.2\n",
      "Shutter Island (2010) 8.1\n",
      "Yojimbo (1961) 8.1\n",
      "Monty Python and the Holy Grail (1975) 8.1\n",
      "Spider-Man: No Way Home (2021) 8.1\n",
      "The Treasure of the Sierra Madre (1948) 8.1\n",
      "Jurassic Park (1993) 8.1\n",
      "The Great Escape (1963) 8.1\n",
      "Rashomon (1950) 8.1\n",
      "Kill Bill: Vol. 1 (2003) 8.1\n",
      "No Country for Old Men (2007) 8.1\n",
      "Finding Nemo (2003) 8.1\n",
      "The Thing (1982) 8.1\n",
      "The Elephant Man (1980) 8.1\n",
      "Chinatown (1974) 8.1\n",
      "Raging Bull (1980) 8.1\n",
      "Gone with the Wind (1939) 8.1\n",
      "V for Vendetta (2005) 8.1\n",
      "Inside Out (2015) 8.1\n",
      "Lock, Stock and Two Smoking Barrels (1998) 8.1\n",
      "Dial M for Murder (1954) 8.1\n",
      "The Secret in Their Eyes (2009) 8.1\n",
      "Howl's Moving Castle (2004) 8.1\n",
      "The Bridge on the River Kwai (1957) 8.1\n",
      "Three Billboards Outside Ebbing, Missouri (2017) 8.1\n",
      "Trainspotting (1996) 8.1\n",
      "Warrior (2011) 8.1\n",
      "Fargo (1996) 8.1\n",
      "Gran Torino (2008) 8.1\n",
      "Prisoners (2013) 8.1\n",
      "My Neighbor Totoro (1988) 8.1\n",
      "Catch Me If You Can (2002) 8.1\n",
      "Million Dollar Baby (2004) 8.1\n",
      "Children of Heaven (1997) 8.1\n",
      "Blade Runner (1982) 8.1\n",
      "The Gold Rush (1925) 8.1\n",
      "On the Waterfront (1954) 8.1\n",
      "Before Sunrise (1995) 8.1\n",
      "12 Years a Slave (2013) 8.1\n",
      "Harry Potter and the Deathly Hallows: Part 2 (2011) 8.1\n",
      "Ben-Hur (1959) 8.1\n",
      "Wild Strawberries (1957) 8.1\n",
      "Gone Girl (2014) 8.1\n",
      "The Third Man (1949) 8.1\n",
      "The General (1926) 8.1\n",
      "The Grand Budapest Hotel (2014) 8.1\n",
      "The Deer Hunter (1978) 8.1\n",
      "In the Name of the Father (1993) 8.1\n",
      "Klaus (2019) 8.1\n",
      "Barry Lyndon (1975) 8.1\n",
      "The Wages of Fear (1953) 8.1\n",
      "Hacksaw Ridge (2016) 8.1\n",
      "Sherlock Jr. (1924) 8.1\n",
      "Mr. Smith Goes to Washington (1939) 8.1\n",
      "Memories of Murder (2003) 8.1\n",
      "Wild Tales (2014) 8.1\n",
      "The Seventh Seal (1957) 8.1\n",
      "Mad Max: Fury Road (2015) 8.1\n",
      "Room (2015) 8.1\n",
      "Mary and Max (2009) 8.1\n",
      "How to Train Your Dragon (2010) 8.1\n",
      "Monsters, Inc. (2001) 8.1\n",
      "The Big Lebowski (1998) 8.1\n",
      "Jaws (1975) 8.1\n",
      "Dead Poets Society (1989) 8.1\n",
      "The Passion of Joan of Arc (1928) 8.1\n",
      "Tokyo Story (1953) 8.1\n",
      "Hotel Rwanda (2004) 8.1\n",
      "Ford v Ferrari (2019) 8.0\n",
      "Rocky (1976) 8.0\n",
      "Platoon (1986) 8.0\n",
      "Spotlight (2015) 8.0\n",
      "The Terminator (1984) 8.0\n",
      "Stand by Me (1986) 8.0\n",
      "Logan (2017) 8.0\n",
      "Ratatouille (2007) 8.0\n",
      "Rush (2013) 8.0\n",
      "Pather Panchali (1955) 8.0\n",
      "Network (1976) 8.0\n",
      "Into the Wild (2007) 8.0\n",
      "The Wizard of Oz (1939) 8.0\n",
      "Before Sunset (2004) 8.0\n",
      "Groundhog Day (1993) 8.0\n",
      "The Exorcist (1973) 8.0\n",
      "The Best Years of Our Lives (1946) 8.0\n",
      "The Incredibles (2004) 8.0\n",
      "To Be or Not to Be (1942) 8.0\n",
      "The Battle of Algiers (1966) 8.0\n",
      "Hachi: A Dog's Tale (2009) 8.0\n",
      "La haine (1995) 8.0\n",
      "Jai Bhim (2021) 8.0\n",
      "Pirates of the Caribbean: The Curse of the Black Pearl (2003) 8.0\n",
      "The Grapes of Wrath (1940) 8.0\n",
      "Rebecca (1940) 8.0\n",
      "My Father and My Son (2005) 8.0\n",
      "Amores Perros (2000) 8.0\n",
      "Cool Hand Luke (1967) 8.0\n",
      "The 400 Blows (1959) 8.0\n",
      "The Handmaiden (2016) 8.0\n",
      "It Happened One Night (1934) 8.0\n",
      "Persona (1966) 8.0\n",
      "The Sound of Music (1965) 8.0\n",
      "Life of Brian (1979) 8.0\n",
      "Everything Everywhere All at Once (2022) 8.0\n",
      "Dersu Uzala (1975) 8.0\n",
      "Aladdin (1992) 8.0\n",
      "The Iron Giant (1999) 8.0\n",
      "The Help (2011) 8.0\n",
      "Gandhi (1982) 8.0\n",
      "{'(1994)': 8.6, '(1972)': '9.2', '(2008)': 8.399999999999999, '(1974)': 8.55, '(1957)': 8.15625, '(1993)': 8.15, '(2003)': 8.08125, '(2001)': 8.20625, '(1966)': 8.2, '(1999)': 8.16875, '(2002)': 8.337499999999999, '(2010)': 8.1625, '(1980)': 8.212499999999999, '(1990)': '8.7', '(1975)': 8.08125, '(1995)': 8.08515625, '(1954)': 8.2, '(1946)': 8.3, '(1991)': 8.55, '(1998)': 8.16875, '(1997)': 8.19375, '(2014)': 8.15625, '(1977)': '8.6', '(1985)': 8.3, '(1960)': 8.35, '(2019)': 8.09375, '(2000)': 8.14375, '(2006)': 8.325, '(1942)': 8.25, '(1962)': 8.3, '(1988)': 8.212499999999999, '(2011)': 8.08125, '(1936)': '8.4', '(1968)': 8.350000000000001, '(1979)': 8.2, '(1931)': 8.350000000000001, '(1981)': 8.350000000000001, '(2012)': 8.325000000000001, '(1950)': 8.2, '(1940)': 8.1, '(2018)': 8.2625, '(1986)': 8.075, '(1964)': '8.3', '(1984)': 8.15, '(2009)': 8.06875, '(2017)': 8.1, '(2016)': 8.0875, '(2022)': 8.15, '(1952)': 8.25, '(1963)': 8.2, '(1983)': 8.25, '(2004)': 8.0296875, '(1992)': 8.125, '(1941)': '8.3', '(1959)': 8.075, '(1958)': '8.2', '(1971)': '8.2', '(1944)': '8.2', '(1987)': '8.2', '(2020)': 8.2, '(1973)': 8.1, '(1976)': 8.05, '(1927)': '8.2', '(1948)': 8.149999999999999, '(1989)': 8.149999999999999, '(2007)': 8.0375, '(1965)': 8.1, '(2005)': 8.075, '(1921)': '8.2', '(2013)': 8.0625, '(1961)': 8.149999999999999, '(2021)': 8.05, '(1982)': 8.05, '(1939)': 8.05, '(2015)': 8.05, '(1996)': 8.1, '(1925)': '8.1', '(1949)': '8.1', '(1926)': '8.1', '(1978)': '8.1', '(1953)': 8.1, '(1924)': '8.1', '(1928)': '8.1', '(1955)': '8.0', '(1967)': '8.0', '(1934)': '8.0'}\n"
     ]
    }
   ],
   "source": [
    "yearWISErating={}\n",
    "titles=[]\n",
    "for row in rows:\n",
    "    column = row.find('td', 'titleColumn')\n",
    "    title = column.a.text\n",
    "    year = column.span.text\n",
    "    link = column.a['href']\n",
    "    column2 = row.find('td', 'ratingColumn')\n",
    "    rating = column2.strong.text\n",
    "    \n",
    "    movie_page = requests.get(f'https://www.imdb.com/chart/top/?ref_=nv_mv_250').content\n",
    "    movie_soup = BeautifulSoup(movie_page, 'html.parser')\n",
    "    print(f'{title} {year} {rating}')\n",
    "    titles.append(title)\n",
    "    if year in yearWISErating:\n",
    "      value= float(yearWISErating[year])\n",
    "      yearWISErating[year] = (value + float(rating))/2\n",
    "    else:\n",
    "      yearWISErating[year]= rating\n",
    "print(yearWISErating)"
   ]
  },
  {
   "cell_type": "code",
   "execution_count": 58,
   "metadata": {
    "colab": {
     "base_uri": "https://localhost:8080/"
    },
    "id": "9vmbP58FJTq0",
    "outputId": "1bb9e404-4e2d-4981-f103-a6cfd6378c4b"
   },
   "outputs": [
    {
     "name": "stdout",
     "output_type": "stream",
     "text": [
      "['The Shawshank Redemption', 'The Godfather', 'The Dark Knight', 'The Godfather Part II', '12 Angry Men', \"Schindler's List\", 'The Lord of the Rings: The Return of the King', 'Pulp Fiction', 'The Lord of the Rings: The Fellowship of the Ring', 'The Good, the Bad and the Ugly', 'Forrest Gump', 'Fight Club', 'The Lord of the Rings: The Two Towers', 'Inception', 'Star Wars: Episode V - The Empire Strikes Back', 'The Matrix', 'Goodfellas', \"One Flew Over the Cuckoo's Nest\", 'Se7en', 'Seven Samurai', \"It's a Wonderful Life\", 'The Silence of the Lambs', 'City of God', 'Saving Private Ryan', 'Life Is Beautiful', 'Interstellar', 'The Green Mile', 'Star Wars', 'Terminator 2: Judgment Day', 'Back to the Future', 'Spirited Away', 'Psycho', 'The Pianist', 'Parasite', 'Léon: The Professional', 'The Lion King', 'Gladiator', 'American History X', 'The Departed', 'The Usual Suspects', 'The Prestige', 'Whiplash', 'Casablanca', 'Harakiri', 'Grave of the Fireflies', 'The Intouchables', 'Modern Times', 'Once Upon a Time in the West', 'Rear Window', 'Cinema Paradiso', 'Alien', 'City Lights', 'Apocalypse Now', 'Memento', 'Raiders of the Lost Ark', 'Django Unchained', 'WALL·E', 'The Lives of Others', 'Sunset Blvd.', 'Paths of Glory', 'The Shining', 'The Great Dictator', 'Avengers: Infinity War', 'Witness for the Prosecution', 'Aliens', 'Spider-Man: Into the Spider-Verse', 'American Beauty', 'Dr. Strangelove or: How I Learned to Stop Worrying and Love the Bomb', 'The Dark Knight Rises', 'Oldboy', 'Amadeus', 'Inglourious Basterds', 'Joker', 'Coco', 'Toy Story', 'Braveheart', 'The Boat', 'Avengers: Endgame', 'Princess Mononoke', 'Once Upon a Time in America', 'Good Will Hunting', 'Your Name.', 'Top Gun: Maverick', 'Requiem for a Dream', \"Singin' in the Rain\", '3 Idiots', 'Toy Story 3', 'High and Low', 'Star Wars: Episode VI - Return of the Jedi', 'Capernaum', '2001: A Space Odyssey', 'Eternal Sunshine of the Spotless Mind', 'Reservoir Dogs', 'The Hunt', 'Come and See', 'Citizen Kane', 'M', 'Lawrence of Arabia', 'North by Northwest', 'Vertigo', 'Amélie', 'A Clockwork Orange', 'The Apartment', 'Ikiru', 'Double Indemnity', 'Full Metal Jacket', 'Hamilton', 'Scarface', 'To Kill a Mockingbird', 'The Sting', 'Incendies', 'Up', 'Heat', 'Taxi Driver', 'A Separation', 'Metropolis', 'L.A. Confidential', 'Die Hard', 'Snatch', 'Bicycle Thieves', 'Indiana Jones and the Last Crusade', 'Like Stars on Earth', '1917', 'Downfall', 'For a Few Dollars More', 'Dangal', 'Batman Begins', 'The Kid', 'Some Like It Hot', 'The Father', 'All About Eve', 'Green Book', 'The Wolf of Wall Street', 'Judgment at Nuremberg', 'Ran', 'Casino', \"Pan's Labyrinth\", 'Unforgiven', 'There Will Be Blood', 'The Truman Show', 'The Sixth Sense', 'A Beautiful Mind', 'Shutter Island', 'Yojimbo', 'Monty Python and the Holy Grail', 'Spider-Man: No Way Home', 'The Treasure of the Sierra Madre', 'Jurassic Park', 'The Great Escape', 'Rashomon', 'Kill Bill: Vol. 1', 'No Country for Old Men', 'Finding Nemo', 'The Thing', 'The Elephant Man', 'Chinatown', 'Raging Bull', 'Gone with the Wind', 'V for Vendetta', 'Inside Out', 'Lock, Stock and Two Smoking Barrels', 'Dial M for Murder', 'The Secret in Their Eyes', \"Howl's Moving Castle\", 'The Bridge on the River Kwai', 'Three Billboards Outside Ebbing, Missouri', 'Trainspotting', 'Warrior', 'Fargo', 'Gran Torino', 'Prisoners', 'My Neighbor Totoro', 'Catch Me If You Can', 'Million Dollar Baby', 'Children of Heaven', 'Blade Runner', 'The Gold Rush', 'On the Waterfront', 'Before Sunrise', '12 Years a Slave', 'Harry Potter and the Deathly Hallows: Part 2', 'Ben-Hur', 'Wild Strawberries', 'Gone Girl', 'The Third Man', 'The General', 'The Grand Budapest Hotel', 'The Deer Hunter', 'In the Name of the Father', 'Klaus', 'Barry Lyndon', 'The Wages of Fear', 'Hacksaw Ridge', 'Sherlock Jr.', 'Mr. Smith Goes to Washington', 'Memories of Murder', 'Wild Tales', 'The Seventh Seal', 'Mad Max: Fury Road', 'Room', 'Mary and Max', 'How to Train Your Dragon', 'Monsters, Inc.', 'The Big Lebowski', 'Jaws', 'Dead Poets Society', 'The Passion of Joan of Arc', 'Tokyo Story', 'Hotel Rwanda', 'Ford v Ferrari', 'Rocky', 'Platoon', 'Spotlight', 'The Terminator', 'Stand by Me', 'Logan', 'Ratatouille', 'Rush', 'Pather Panchali', 'Network', 'Into the Wild', 'The Wizard of Oz', 'Before Sunset', 'Groundhog Day', 'The Exorcist', 'The Best Years of Our Lives', 'The Incredibles', 'To Be or Not to Be', 'The Battle of Algiers', \"Hachi: A Dog's Tale\", 'La haine', 'Jai Bhim', 'Pirates of the Caribbean: The Curse of the Black Pearl', 'The Grapes of Wrath', 'Rebecca', 'My Father and My Son', 'Amores Perros', 'Cool Hand Luke', 'The 400 Blows', 'The Handmaiden', 'It Happened One Night', 'Persona', 'The Sound of Music', 'Life of Brian', 'Everything Everywhere All at Once', 'Dersu Uzala', 'Aladdin', 'The Iron Giant', 'The Help', 'Gandhi']\n"
     ]
    }
   ],
   "source": [
    "print(titles)"
   ]
  },
  {
   "cell_type": "code",
   "execution_count": 7,
   "metadata": {
    "colab": {
     "base_uri": "https://localhost:8080/"
    },
    "id": "zG4aZd-GeLAV",
    "outputId": "11389712-dead-406c-ed79-458fbe5d61d0"
   },
   "outputs": [
    {
     "name": "stdout",
     "output_type": "stream",
     "text": [
      "{'(1994)': 8.6, '(1972)': '9.2', '(2008)': 8.399999999999999, '(1974)': 8.55, '(1957)': 8.15625, '(1993)': 8.15, '(2003)': 8.08125, '(2001)': 8.20625, '(1966)': 8.2, '(1999)': 8.16875, '(2002)': 8.337499999999999, '(2010)': 8.1625, '(1980)': 8.212499999999999, '(1990)': '8.7', '(1975)': 8.08125, '(1995)': 8.08515625, '(1954)': 8.2, '(1946)': 8.3, '(1991)': 8.55, '(1998)': 8.16875, '(1997)': 8.19375, '(2014)': 8.15625, '(1977)': '8.6', '(1985)': 8.3, '(1960)': 8.35, '(2019)': 8.09375, '(2000)': 8.14375, '(2006)': 8.325, '(1942)': 8.25, '(1962)': 8.3, '(1988)': 8.212499999999999, '(2011)': 8.08125, '(1936)': '8.4', '(1968)': 8.350000000000001, '(1979)': 8.2, '(1931)': 8.350000000000001, '(1981)': 8.350000000000001, '(2012)': 8.325000000000001, '(1950)': 8.2, '(1940)': 8.1, '(2018)': 8.2625, '(1986)': 8.075, '(1964)': '8.3', '(1984)': 8.15, '(2009)': 8.06875, '(2017)': 8.1, '(2016)': 8.0875, '(2022)': 8.15, '(1952)': 8.25, '(1963)': 8.2, '(1983)': 8.25, '(2004)': 8.0296875, '(1992)': 8.125, '(1941)': '8.3', '(1959)': 8.075, '(1958)': '8.2', '(1971)': '8.2', '(1944)': '8.2', '(1987)': '8.2', '(2020)': 8.2, '(1973)': 8.1, '(1976)': 8.05, '(1927)': '8.2', '(1948)': 8.149999999999999, '(1989)': 8.149999999999999, '(2007)': 8.0375, '(1965)': 8.1, '(2005)': 8.075, '(1921)': '8.2', '(2013)': 8.0625, '(1961)': 8.149999999999999, '(2021)': 8.05, '(1982)': 8.05, '(1939)': 8.05, '(2015)': 8.05, '(1996)': 8.1, '(1925)': '8.1', '(1949)': '8.1', '(1926)': '8.1', '(1978)': '8.1', '(1953)': 8.1, '(1924)': '8.1', '(1928)': '8.1', '(1955)': '8.0', '(1967)': '8.0', '(1934)': '8.0'}\n"
     ]
    }
   ],
   "source": [
    "print(yearWISErating)"
   ]
  },
  {
   "cell_type": "code",
   "execution_count": 33,
   "metadata": {
    "id": "EueMnKPxEXwR"
   },
   "outputs": [],
   "source": [
    "import pandas as pd\n",
    "df_new = pd.DataFrame(list(yearWISErating.items()),columns = ['year','ratings']) "
   ]
  },
  {
   "cell_type": "code",
   "execution_count": 34,
   "metadata": {
    "colab": {
     "base_uri": "https://localhost:8080/",
     "height": 424
    },
    "id": "cAA870ukEozD",
    "outputId": "f611a186-da14-4947-9f50-963375bafe62"
   },
   "outputs": [
    {
     "data": {
      "text/html": [
       "\n",
       "  <div id=\"df-f292234c-acf6-42bc-8df1-9849705610cd\">\n",
       "    <div class=\"colab-df-container\">\n",
       "      <div>\n",
       "<style scoped>\n",
       "    .dataframe tbody tr th:only-of-type {\n",
       "        vertical-align: middle;\n",
       "    }\n",
       "\n",
       "    .dataframe tbody tr th {\n",
       "        vertical-align: top;\n",
       "    }\n",
       "\n",
       "    .dataframe thead th {\n",
       "        text-align: right;\n",
       "    }\n",
       "</style>\n",
       "<table border=\"1\" class=\"dataframe\">\n",
       "  <thead>\n",
       "    <tr style=\"text-align: right;\">\n",
       "      <th></th>\n",
       "      <th>year</th>\n",
       "      <th>ratings</th>\n",
       "    </tr>\n",
       "  </thead>\n",
       "  <tbody>\n",
       "    <tr>\n",
       "      <th>0</th>\n",
       "      <td>(1994)</td>\n",
       "      <td>8.6</td>\n",
       "    </tr>\n",
       "    <tr>\n",
       "      <th>1</th>\n",
       "      <td>(1972)</td>\n",
       "      <td>9.2</td>\n",
       "    </tr>\n",
       "    <tr>\n",
       "      <th>2</th>\n",
       "      <td>(2008)</td>\n",
       "      <td>8.4</td>\n",
       "    </tr>\n",
       "    <tr>\n",
       "      <th>3</th>\n",
       "      <td>(1974)</td>\n",
       "      <td>8.55</td>\n",
       "    </tr>\n",
       "    <tr>\n",
       "      <th>4</th>\n",
       "      <td>(1957)</td>\n",
       "      <td>8.15625</td>\n",
       "    </tr>\n",
       "    <tr>\n",
       "      <th>...</th>\n",
       "      <td>...</td>\n",
       "      <td>...</td>\n",
       "    </tr>\n",
       "    <tr>\n",
       "      <th>81</th>\n",
       "      <td>(1924)</td>\n",
       "      <td>8.1</td>\n",
       "    </tr>\n",
       "    <tr>\n",
       "      <th>82</th>\n",
       "      <td>(1928)</td>\n",
       "      <td>8.1</td>\n",
       "    </tr>\n",
       "    <tr>\n",
       "      <th>83</th>\n",
       "      <td>(1955)</td>\n",
       "      <td>8.0</td>\n",
       "    </tr>\n",
       "    <tr>\n",
       "      <th>84</th>\n",
       "      <td>(1967)</td>\n",
       "      <td>8.0</td>\n",
       "    </tr>\n",
       "    <tr>\n",
       "      <th>85</th>\n",
       "      <td>(1934)</td>\n",
       "      <td>8.0</td>\n",
       "    </tr>\n",
       "  </tbody>\n",
       "</table>\n",
       "<p>86 rows × 2 columns</p>\n",
       "</div>\n",
       "      <button class=\"colab-df-convert\" onclick=\"convertToInteractive('df-f292234c-acf6-42bc-8df1-9849705610cd')\"\n",
       "              title=\"Convert this dataframe to an interactive table.\"\n",
       "              style=\"display:none;\">\n",
       "        \n",
       "  <svg xmlns=\"http://www.w3.org/2000/svg\" height=\"24px\"viewBox=\"0 0 24 24\"\n",
       "       width=\"24px\">\n",
       "    <path d=\"M0 0h24v24H0V0z\" fill=\"none\"/>\n",
       "    <path d=\"M18.56 5.44l.94 2.06.94-2.06 2.06-.94-2.06-.94-.94-2.06-.94 2.06-2.06.94zm-11 1L8.5 8.5l.94-2.06 2.06-.94-2.06-.94L8.5 2.5l-.94 2.06-2.06.94zm10 10l.94 2.06.94-2.06 2.06-.94-2.06-.94-.94-2.06-.94 2.06-2.06.94z\"/><path d=\"M17.41 7.96l-1.37-1.37c-.4-.4-.92-.59-1.43-.59-.52 0-1.04.2-1.43.59L10.3 9.45l-7.72 7.72c-.78.78-.78 2.05 0 2.83L4 21.41c.39.39.9.59 1.41.59.51 0 1.02-.2 1.41-.59l7.78-7.78 2.81-2.81c.8-.78.8-2.07 0-2.86zM5.41 20L4 18.59l7.72-7.72 1.47 1.35L5.41 20z\"/>\n",
       "  </svg>\n",
       "      </button>\n",
       "      \n",
       "  <style>\n",
       "    .colab-df-container {\n",
       "      display:flex;\n",
       "      flex-wrap:wrap;\n",
       "      gap: 12px;\n",
       "    }\n",
       "\n",
       "    .colab-df-convert {\n",
       "      background-color: #E8F0FE;\n",
       "      border: none;\n",
       "      border-radius: 50%;\n",
       "      cursor: pointer;\n",
       "      display: none;\n",
       "      fill: #1967D2;\n",
       "      height: 32px;\n",
       "      padding: 0 0 0 0;\n",
       "      width: 32px;\n",
       "    }\n",
       "\n",
       "    .colab-df-convert:hover {\n",
       "      background-color: #E2EBFA;\n",
       "      box-shadow: 0px 1px 2px rgba(60, 64, 67, 0.3), 0px 1px 3px 1px rgba(60, 64, 67, 0.15);\n",
       "      fill: #174EA6;\n",
       "    }\n",
       "\n",
       "    [theme=dark] .colab-df-convert {\n",
       "      background-color: #3B4455;\n",
       "      fill: #D2E3FC;\n",
       "    }\n",
       "\n",
       "    [theme=dark] .colab-df-convert:hover {\n",
       "      background-color: #434B5C;\n",
       "      box-shadow: 0px 1px 3px 1px rgba(0, 0, 0, 0.15);\n",
       "      filter: drop-shadow(0px 1px 2px rgba(0, 0, 0, 0.3));\n",
       "      fill: #FFFFFF;\n",
       "    }\n",
       "  </style>\n",
       "\n",
       "      <script>\n",
       "        const buttonEl =\n",
       "          document.querySelector('#df-f292234c-acf6-42bc-8df1-9849705610cd button.colab-df-convert');\n",
       "        buttonEl.style.display =\n",
       "          google.colab.kernel.accessAllowed ? 'block' : 'none';\n",
       "\n",
       "        async function convertToInteractive(key) {\n",
       "          const element = document.querySelector('#df-f292234c-acf6-42bc-8df1-9849705610cd');\n",
       "          const dataTable =\n",
       "            await google.colab.kernel.invokeFunction('convertToInteractive',\n",
       "                                                     [key], {});\n",
       "          if (!dataTable) return;\n",
       "\n",
       "          const docLinkHtml = 'Like what you see? Visit the ' +\n",
       "            '<a target=\"_blank\" href=https://colab.research.google.com/notebooks/data_table.ipynb>data table notebook</a>'\n",
       "            + ' to learn more about interactive tables.';\n",
       "          element.innerHTML = '';\n",
       "          dataTable['output_type'] = 'display_data';\n",
       "          await google.colab.output.renderOutput(dataTable, element);\n",
       "          const docLink = document.createElement('div');\n",
       "          docLink.innerHTML = docLinkHtml;\n",
       "          element.appendChild(docLink);\n",
       "        }\n",
       "      </script>\n",
       "    </div>\n",
       "  </div>\n",
       "  "
      ],
      "text/plain": [
       "      year  ratings\n",
       "0   (1994)      8.6\n",
       "1   (1972)      9.2\n",
       "2   (2008)      8.4\n",
       "3   (1974)     8.55\n",
       "4   (1957)  8.15625\n",
       "..     ...      ...\n",
       "81  (1924)      8.1\n",
       "82  (1928)      8.1\n",
       "83  (1955)      8.0\n",
       "84  (1967)      8.0\n",
       "85  (1934)      8.0\n",
       "\n",
       "[86 rows x 2 columns]"
      ]
     },
     "execution_count": 34,
     "metadata": {},
     "output_type": "execute_result"
    }
   ],
   "source": [
    "df_new"
   ]
  },
  {
   "cell_type": "code",
   "execution_count": 14,
   "metadata": {
    "colab": {
     "base_uri": "https://localhost:8080/"
    },
    "id": "fYm6tJxLeLCx",
    "outputId": "4f609f57-8703-48e9-bb5c-aadaea5f1c12"
   },
   "outputs": [
    {
     "name": "stdout",
     "output_type": "stream",
     "text": [
      "['(1994)', '(1972)', '(2008)', '(1974)', '(1957)', '(1993)', '(2003)', '(2001)', '(1966)', '(1999)', '(2002)', '(2010)', '(1980)', '(1990)', '(1975)', '(1995)', '(1954)', '(1946)', '(1991)', '(1998)', '(1997)', '(2014)', '(1977)', '(1985)', '(1960)', '(2019)', '(2000)', '(2006)', '(1942)', '(1962)', '(1988)', '(2011)', '(1936)', '(1968)', '(1979)', '(1931)', '(1981)', '(2012)', '(1950)', '(1940)', '(2018)', '(1986)', '(1964)', '(1984)', '(2009)', '(2017)', '(2016)', '(2022)', '(1952)', '(1963)', '(1983)', '(2004)', '(1992)', '(1941)', '(1959)', '(1958)', '(1971)', '(1944)', '(1987)', '(2020)', '(1973)', '(1976)', '(1927)', '(1948)', '(1989)', '(2007)', '(1965)', '(2005)', '(1921)', '(2013)', '(1961)', '(2021)', '(1982)', '(1939)', '(2015)', '(1996)', '(1925)', '(1949)', '(1926)', '(1978)', '(1953)', '(1924)', '(1928)', '(1955)', '(1967)', '(1934)']\n"
     ]
    }
   ],
   "source": [
    "my_list1 = list(yearWISErating.keys())\n",
    "print(my_list1)"
   ]
  },
  {
   "cell_type": "code",
   "execution_count": 64,
   "metadata": {
    "colab": {
     "base_uri": "https://localhost:8080/"
    },
    "id": "DJzM6AXPGdjf",
    "outputId": "7bc58cb2-8675-4754-8725-29134e3001d5"
   },
   "outputs": [
    {
     "name": "stdout",
     "output_type": "stream",
     "text": [
      "[1994, 1972, 2008, 1974, 1957, 1993, 2003, 2001, 1966, 1999, 2002, 2010, 1980, 1990, 1975, 1995, 1954, 1946, 1991, 1998, 1997, 2014, 1977, 1985, 1960, 2019, 2000, 2006, 1942, 1962, 1988, 2011, 1936, 1968, 1979, 1931, 1981, 2012, 1950, 1940, 2018, 1986, 1964, 1984, 2009, 2017, 2016, 2022, 1952, 1963, 1983, 2004, 1992, 1941, 1959, 1958, 1971, 1944, 1987, 2020, 1973, 1976, 1927, 1948, 1989, 2007, 1965, 2005, 1921, 2013, 1961, 2021, 1982, 1939, 2015, 1996, 1925, 1949, 1926, 1978, 1953, 1924, 1928, 1955, 1967, 1934]\n"
     ]
    }
   ],
   "source": [
    "yearsList=[]\n",
    "for element in my_list1:\n",
    "  temp=element[1:5]\n",
    "  yearsList.append(int(temp))\n",
    "  #print(int(temp))\n",
    "  #print(type(temp))\n",
    "\n",
    "print(yearsList)"
   ]
  },
  {
   "cell_type": "code",
   "execution_count": 65,
   "metadata": {
    "colab": {
     "base_uri": "https://localhost:8080/"
    },
    "id": "LVIy7fZtRYnR",
    "outputId": "84b2d7e8-5d74-495d-ffd6-dbde2c150caf"
   },
   "outputs": [
    {
     "name": "stdout",
     "output_type": "stream",
     "text": [
      "[1994, 1972, 2008, 1974, 1957, 1993, 2003, 2001, 1966, 1999, 2002, 2010, 1980, 1990, 1975, 1995, 1954, 1946, 1991, 1998, 1997, 2014, 1977, 1985, 1960, 2019, 2000, 2006, 1942, 1962, 1988, 2011, 1936, 1968, 1979, 1931, 1981, 2012, 1950, 1940, 2018, 1986, 1964, 1984, 2009, 2017, 2016, 2022, 1952, 1963, 1983, 2004, 1992, 1941, 1959, 1958, 1971, 1944, 1987, 2020, 1973, 1976, 1927, 1948, 1989, 2007, 1965, 2005, 1921, 2013, 1961, 2021, 1982, 1939, 2015, 1996, 1925, 1949, 1926, 1978, 1953, 1924, 1928, 1955, 1967, 1934]\n",
      "['The Shawshank Redemption', 'The Godfather', 'The Dark Knight', 'The Godfather Part II', '12 Angry Men', \"Schindler's List\", 'The Lord of the Rings: The Return of the King', 'Pulp Fiction', 'The Lord of the Rings: The Fellowship of the Ring', 'The Good, the Bad and the Ugly', 'Forrest Gump', 'Fight Club', 'The Lord of the Rings: The Two Towers', 'Inception', 'Star Wars: Episode V - The Empire Strikes Back', 'The Matrix', 'Goodfellas', \"One Flew Over the Cuckoo's Nest\", 'Se7en', 'Seven Samurai', \"It's a Wonderful Life\", 'The Silence of the Lambs', 'City of God', 'Saving Private Ryan', 'Life Is Beautiful', 'Interstellar', 'The Green Mile', 'Star Wars', 'Terminator 2: Judgment Day', 'Back to the Future', 'Spirited Away', 'Psycho', 'The Pianist', 'Parasite', 'Léon: The Professional', 'The Lion King', 'Gladiator', 'American History X', 'The Departed', 'The Usual Suspects', 'The Prestige', 'Whiplash', 'Casablanca', 'Harakiri', 'Grave of the Fireflies', 'The Intouchables', 'Modern Times', 'Once Upon a Time in the West', 'Rear Window', 'Cinema Paradiso', 'Alien', 'City Lights', 'Apocalypse Now', 'Memento', 'Raiders of the Lost Ark', 'Django Unchained', 'WALL·E', 'The Lives of Others', 'Sunset Blvd.', 'Paths of Glory', 'The Shining', 'The Great Dictator', 'Avengers: Infinity War', 'Witness for the Prosecution', 'Aliens', 'Spider-Man: Into the Spider-Verse', 'American Beauty', 'Dr. Strangelove or: How I Learned to Stop Worrying and Love the Bomb', 'The Dark Knight Rises', 'Oldboy', 'Amadeus', 'Inglourious Basterds', 'Joker', 'Coco', 'Toy Story', 'Braveheart', 'The Boat', 'Avengers: Endgame', 'Princess Mononoke', 'Once Upon a Time in America', 'Good Will Hunting', 'Your Name.', 'Top Gun: Maverick', 'Requiem for a Dream', \"Singin' in the Rain\", '3 Idiots', 'Toy Story 3', 'High and Low', 'Star Wars: Episode VI - Return of the Jedi', 'Capernaum', '2001: A Space Odyssey', 'Eternal Sunshine of the Spotless Mind', 'Reservoir Dogs', 'The Hunt', 'Come and See', 'Citizen Kane', 'M', 'Lawrence of Arabia', 'North by Northwest', 'Vertigo', 'Amélie', 'A Clockwork Orange', 'The Apartment', 'Ikiru', 'Double Indemnity', 'Full Metal Jacket', 'Hamilton', 'Scarface', 'To Kill a Mockingbird', 'The Sting', 'Incendies', 'Up', 'Heat', 'Taxi Driver', 'A Separation', 'Metropolis', 'L.A. Confidential', 'Die Hard', 'Snatch', 'Bicycle Thieves', 'Indiana Jones and the Last Crusade', 'Like Stars on Earth', '1917', 'Downfall', 'For a Few Dollars More', 'Dangal', 'Batman Begins', 'The Kid', 'Some Like It Hot', 'The Father', 'All About Eve', 'Green Book', 'The Wolf of Wall Street', 'Judgment at Nuremberg', 'Ran', 'Casino', \"Pan's Labyrinth\", 'Unforgiven', 'There Will Be Blood', 'The Truman Show', 'The Sixth Sense', 'A Beautiful Mind', 'Shutter Island', 'Yojimbo', 'Monty Python and the Holy Grail', 'Spider-Man: No Way Home', 'The Treasure of the Sierra Madre', 'Jurassic Park', 'The Great Escape', 'Rashomon', 'Kill Bill: Vol. 1', 'No Country for Old Men', 'Finding Nemo', 'The Thing', 'The Elephant Man', 'Chinatown', 'Raging Bull', 'Gone with the Wind', 'V for Vendetta', 'Inside Out', 'Lock, Stock and Two Smoking Barrels', 'Dial M for Murder', 'The Secret in Their Eyes', \"Howl's Moving Castle\", 'The Bridge on the River Kwai', 'Three Billboards Outside Ebbing, Missouri', 'Trainspotting', 'Warrior', 'Fargo', 'Gran Torino', 'Prisoners', 'My Neighbor Totoro', 'Catch Me If You Can', 'Million Dollar Baby', 'Children of Heaven', 'Blade Runner', 'The Gold Rush', 'On the Waterfront', 'Before Sunrise', '12 Years a Slave', 'Harry Potter and the Deathly Hallows: Part 2', 'Ben-Hur', 'Wild Strawberries', 'Gone Girl', 'The Third Man', 'The General', 'The Grand Budapest Hotel', 'The Deer Hunter', 'In the Name of the Father', 'Klaus', 'Barry Lyndon', 'The Wages of Fear', 'Hacksaw Ridge', 'Sherlock Jr.', 'Mr. Smith Goes to Washington', 'Memories of Murder', 'Wild Tales', 'The Seventh Seal', 'Mad Max: Fury Road', 'Room', 'Mary and Max', 'How to Train Your Dragon', 'Monsters, Inc.', 'The Big Lebowski', 'Jaws', 'Dead Poets Society', 'The Passion of Joan of Arc', 'Tokyo Story', 'Hotel Rwanda', 'Ford v Ferrari', 'Rocky', 'Platoon', 'Spotlight', 'The Terminator', 'Stand by Me', 'Logan', 'Ratatouille', 'Rush', 'Pather Panchali', 'Network', 'Into the Wild', 'The Wizard of Oz', 'Before Sunset', 'Groundhog Day', 'The Exorcist', 'The Best Years of Our Lives', 'The Incredibles', 'To Be or Not to Be', 'The Battle of Algiers', \"Hachi: A Dog's Tale\", 'La haine', 'Jai Bhim', 'Pirates of the Caribbean: The Curse of the Black Pearl', 'The Grapes of Wrath', 'Rebecca', 'My Father and My Son', 'Amores Perros', 'Cool Hand Luke', 'The 400 Blows', 'The Handmaiden', 'It Happened One Night', 'Persona', 'The Sound of Music', 'Life of Brian', 'Everything Everywhere All at Once', 'Dersu Uzala', 'Aladdin', 'The Iron Giant', 'The Help', 'Gandhi']\n"
     ]
    }
   ],
   "source": [
    "print(yearsList)\n",
    "print(titles)"
   ]
  },
  {
   "cell_type": "code",
   "execution_count": 69,
   "metadata": {
    "colab": {
     "base_uri": "https://localhost:8080/",
     "height": 424
    },
    "id": "lnd4TR8ZS-M5",
    "outputId": "fa43a544-af3b-47e2-da25-71cf81078795"
   },
   "outputs": [
    {
     "data": {
      "text/html": [
       "\n",
       "  <div id=\"df-ba2e53f8-ebf2-42ec-a382-0c6a14bdc2ca\">\n",
       "    <div class=\"colab-df-container\">\n",
       "      <div>\n",
       "<style scoped>\n",
       "    .dataframe tbody tr th:only-of-type {\n",
       "        vertical-align: middle;\n",
       "    }\n",
       "\n",
       "    .dataframe tbody tr th {\n",
       "        vertical-align: top;\n",
       "    }\n",
       "\n",
       "    .dataframe thead th {\n",
       "        text-align: right;\n",
       "    }\n",
       "</style>\n",
       "<table border=\"1\" class=\"dataframe\">\n",
       "  <thead>\n",
       "    <tr style=\"text-align: right;\">\n",
       "      <th></th>\n",
       "      <th>year</th>\n",
       "    </tr>\n",
       "  </thead>\n",
       "  <tbody>\n",
       "    <tr>\n",
       "      <th>0</th>\n",
       "      <td>1994</td>\n",
       "    </tr>\n",
       "    <tr>\n",
       "      <th>1</th>\n",
       "      <td>1972</td>\n",
       "    </tr>\n",
       "    <tr>\n",
       "      <th>2</th>\n",
       "      <td>2008</td>\n",
       "    </tr>\n",
       "    <tr>\n",
       "      <th>3</th>\n",
       "      <td>1974</td>\n",
       "    </tr>\n",
       "    <tr>\n",
       "      <th>4</th>\n",
       "      <td>1957</td>\n",
       "    </tr>\n",
       "    <tr>\n",
       "      <th>...</th>\n",
       "      <td>...</td>\n",
       "    </tr>\n",
       "    <tr>\n",
       "      <th>81</th>\n",
       "      <td>1924</td>\n",
       "    </tr>\n",
       "    <tr>\n",
       "      <th>82</th>\n",
       "      <td>1928</td>\n",
       "    </tr>\n",
       "    <tr>\n",
       "      <th>83</th>\n",
       "      <td>1955</td>\n",
       "    </tr>\n",
       "    <tr>\n",
       "      <th>84</th>\n",
       "      <td>1967</td>\n",
       "    </tr>\n",
       "    <tr>\n",
       "      <th>85</th>\n",
       "      <td>1934</td>\n",
       "    </tr>\n",
       "  </tbody>\n",
       "</table>\n",
       "<p>86 rows × 1 columns</p>\n",
       "</div>\n",
       "      <button class=\"colab-df-convert\" onclick=\"convertToInteractive('df-ba2e53f8-ebf2-42ec-a382-0c6a14bdc2ca')\"\n",
       "              title=\"Convert this dataframe to an interactive table.\"\n",
       "              style=\"display:none;\">\n",
       "        \n",
       "  <svg xmlns=\"http://www.w3.org/2000/svg\" height=\"24px\"viewBox=\"0 0 24 24\"\n",
       "       width=\"24px\">\n",
       "    <path d=\"M0 0h24v24H0V0z\" fill=\"none\"/>\n",
       "    <path d=\"M18.56 5.44l.94 2.06.94-2.06 2.06-.94-2.06-.94-.94-2.06-.94 2.06-2.06.94zm-11 1L8.5 8.5l.94-2.06 2.06-.94-2.06-.94L8.5 2.5l-.94 2.06-2.06.94zm10 10l.94 2.06.94-2.06 2.06-.94-2.06-.94-.94-2.06-.94 2.06-2.06.94z\"/><path d=\"M17.41 7.96l-1.37-1.37c-.4-.4-.92-.59-1.43-.59-.52 0-1.04.2-1.43.59L10.3 9.45l-7.72 7.72c-.78.78-.78 2.05 0 2.83L4 21.41c.39.39.9.59 1.41.59.51 0 1.02-.2 1.41-.59l7.78-7.78 2.81-2.81c.8-.78.8-2.07 0-2.86zM5.41 20L4 18.59l7.72-7.72 1.47 1.35L5.41 20z\"/>\n",
       "  </svg>\n",
       "      </button>\n",
       "      \n",
       "  <style>\n",
       "    .colab-df-container {\n",
       "      display:flex;\n",
       "      flex-wrap:wrap;\n",
       "      gap: 12px;\n",
       "    }\n",
       "\n",
       "    .colab-df-convert {\n",
       "      background-color: #E8F0FE;\n",
       "      border: none;\n",
       "      border-radius: 50%;\n",
       "      cursor: pointer;\n",
       "      display: none;\n",
       "      fill: #1967D2;\n",
       "      height: 32px;\n",
       "      padding: 0 0 0 0;\n",
       "      width: 32px;\n",
       "    }\n",
       "\n",
       "    .colab-df-convert:hover {\n",
       "      background-color: #E2EBFA;\n",
       "      box-shadow: 0px 1px 2px rgba(60, 64, 67, 0.3), 0px 1px 3px 1px rgba(60, 64, 67, 0.15);\n",
       "      fill: #174EA6;\n",
       "    }\n",
       "\n",
       "    [theme=dark] .colab-df-convert {\n",
       "      background-color: #3B4455;\n",
       "      fill: #D2E3FC;\n",
       "    }\n",
       "\n",
       "    [theme=dark] .colab-df-convert:hover {\n",
       "      background-color: #434B5C;\n",
       "      box-shadow: 0px 1px 3px 1px rgba(0, 0, 0, 0.15);\n",
       "      filter: drop-shadow(0px 1px 2px rgba(0, 0, 0, 0.3));\n",
       "      fill: #FFFFFF;\n",
       "    }\n",
       "  </style>\n",
       "\n",
       "      <script>\n",
       "        const buttonEl =\n",
       "          document.querySelector('#df-ba2e53f8-ebf2-42ec-a382-0c6a14bdc2ca button.colab-df-convert');\n",
       "        buttonEl.style.display =\n",
       "          google.colab.kernel.accessAllowed ? 'block' : 'none';\n",
       "\n",
       "        async function convertToInteractive(key) {\n",
       "          const element = document.querySelector('#df-ba2e53f8-ebf2-42ec-a382-0c6a14bdc2ca');\n",
       "          const dataTable =\n",
       "            await google.colab.kernel.invokeFunction('convertToInteractive',\n",
       "                                                     [key], {});\n",
       "          if (!dataTable) return;\n",
       "\n",
       "          const docLinkHtml = 'Like what you see? Visit the ' +\n",
       "            '<a target=\"_blank\" href=https://colab.research.google.com/notebooks/data_table.ipynb>data table notebook</a>'\n",
       "            + ' to learn more about interactive tables.';\n",
       "          element.innerHTML = '';\n",
       "          dataTable['output_type'] = 'display_data';\n",
       "          await google.colab.output.renderOutput(dataTable, element);\n",
       "          const docLink = document.createElement('div');\n",
       "          docLink.innerHTML = docLinkHtml;\n",
       "          element.appendChild(docLink);\n",
       "        }\n",
       "      </script>\n",
       "    </div>\n",
       "  </div>\n",
       "  "
      ],
      "text/plain": [
       "    year\n",
       "0   1994\n",
       "1   1972\n",
       "2   2008\n",
       "3   1974\n",
       "4   1957\n",
       "..   ...\n",
       "81  1924\n",
       "82  1928\n",
       "83  1955\n",
       "84  1967\n",
       "85  1934\n",
       "\n",
       "[86 rows x 1 columns]"
      ]
     },
     "execution_count": 69,
     "metadata": {},
     "output_type": "execute_result"
    }
   ],
   "source": [
    "import pandas as pd\n",
    "df = pd.DataFrame (yearsList, columns = ['year'])\n",
    "df"
   ]
  },
  {
   "cell_type": "code",
   "execution_count": 71,
   "metadata": {
    "colab": {
     "base_uri": "https://localhost:8080/",
     "height": 424
    },
    "id": "aZppw5UuTPD7",
    "outputId": "c797499e-a718-4268-a612-6f6a6e6c2f83"
   },
   "outputs": [
    {
     "data": {
      "text/html": [
       "\n",
       "  <div id=\"df-18c7ad6a-94b6-4589-92ef-ad208ec7b91c\">\n",
       "    <div class=\"colab-df-container\">\n",
       "      <div>\n",
       "<style scoped>\n",
       "    .dataframe tbody tr th:only-of-type {\n",
       "        vertical-align: middle;\n",
       "    }\n",
       "\n",
       "    .dataframe tbody tr th {\n",
       "        vertical-align: top;\n",
       "    }\n",
       "\n",
       "    .dataframe thead th {\n",
       "        text-align: right;\n",
       "    }\n",
       "</style>\n",
       "<table border=\"1\" class=\"dataframe\">\n",
       "  <thead>\n",
       "    <tr style=\"text-align: right;\">\n",
       "      <th></th>\n",
       "      <th>ratings</th>\n",
       "    </tr>\n",
       "  </thead>\n",
       "  <tbody>\n",
       "    <tr>\n",
       "      <th>0</th>\n",
       "      <td>8.6</td>\n",
       "    </tr>\n",
       "    <tr>\n",
       "      <th>1</th>\n",
       "      <td>9.2</td>\n",
       "    </tr>\n",
       "    <tr>\n",
       "      <th>2</th>\n",
       "      <td>8.4</td>\n",
       "    </tr>\n",
       "    <tr>\n",
       "      <th>3</th>\n",
       "      <td>8.55</td>\n",
       "    </tr>\n",
       "    <tr>\n",
       "      <th>4</th>\n",
       "      <td>8.15625</td>\n",
       "    </tr>\n",
       "    <tr>\n",
       "      <th>...</th>\n",
       "      <td>...</td>\n",
       "    </tr>\n",
       "    <tr>\n",
       "      <th>81</th>\n",
       "      <td>8.1</td>\n",
       "    </tr>\n",
       "    <tr>\n",
       "      <th>82</th>\n",
       "      <td>8.1</td>\n",
       "    </tr>\n",
       "    <tr>\n",
       "      <th>83</th>\n",
       "      <td>8.0</td>\n",
       "    </tr>\n",
       "    <tr>\n",
       "      <th>84</th>\n",
       "      <td>8.0</td>\n",
       "    </tr>\n",
       "    <tr>\n",
       "      <th>85</th>\n",
       "      <td>8.0</td>\n",
       "    </tr>\n",
       "  </tbody>\n",
       "</table>\n",
       "<p>86 rows × 1 columns</p>\n",
       "</div>\n",
       "      <button class=\"colab-df-convert\" onclick=\"convertToInteractive('df-18c7ad6a-94b6-4589-92ef-ad208ec7b91c')\"\n",
       "              title=\"Convert this dataframe to an interactive table.\"\n",
       "              style=\"display:none;\">\n",
       "        \n",
       "  <svg xmlns=\"http://www.w3.org/2000/svg\" height=\"24px\"viewBox=\"0 0 24 24\"\n",
       "       width=\"24px\">\n",
       "    <path d=\"M0 0h24v24H0V0z\" fill=\"none\"/>\n",
       "    <path d=\"M18.56 5.44l.94 2.06.94-2.06 2.06-.94-2.06-.94-.94-2.06-.94 2.06-2.06.94zm-11 1L8.5 8.5l.94-2.06 2.06-.94-2.06-.94L8.5 2.5l-.94 2.06-2.06.94zm10 10l.94 2.06.94-2.06 2.06-.94-2.06-.94-.94-2.06-.94 2.06-2.06.94z\"/><path d=\"M17.41 7.96l-1.37-1.37c-.4-.4-.92-.59-1.43-.59-.52 0-1.04.2-1.43.59L10.3 9.45l-7.72 7.72c-.78.78-.78 2.05 0 2.83L4 21.41c.39.39.9.59 1.41.59.51 0 1.02-.2 1.41-.59l7.78-7.78 2.81-2.81c.8-.78.8-2.07 0-2.86zM5.41 20L4 18.59l7.72-7.72 1.47 1.35L5.41 20z\"/>\n",
       "  </svg>\n",
       "      </button>\n",
       "      \n",
       "  <style>\n",
       "    .colab-df-container {\n",
       "      display:flex;\n",
       "      flex-wrap:wrap;\n",
       "      gap: 12px;\n",
       "    }\n",
       "\n",
       "    .colab-df-convert {\n",
       "      background-color: #E8F0FE;\n",
       "      border: none;\n",
       "      border-radius: 50%;\n",
       "      cursor: pointer;\n",
       "      display: none;\n",
       "      fill: #1967D2;\n",
       "      height: 32px;\n",
       "      padding: 0 0 0 0;\n",
       "      width: 32px;\n",
       "    }\n",
       "\n",
       "    .colab-df-convert:hover {\n",
       "      background-color: #E2EBFA;\n",
       "      box-shadow: 0px 1px 2px rgba(60, 64, 67, 0.3), 0px 1px 3px 1px rgba(60, 64, 67, 0.15);\n",
       "      fill: #174EA6;\n",
       "    }\n",
       "\n",
       "    [theme=dark] .colab-df-convert {\n",
       "      background-color: #3B4455;\n",
       "      fill: #D2E3FC;\n",
       "    }\n",
       "\n",
       "    [theme=dark] .colab-df-convert:hover {\n",
       "      background-color: #434B5C;\n",
       "      box-shadow: 0px 1px 3px 1px rgba(0, 0, 0, 0.15);\n",
       "      filter: drop-shadow(0px 1px 2px rgba(0, 0, 0, 0.3));\n",
       "      fill: #FFFFFF;\n",
       "    }\n",
       "  </style>\n",
       "\n",
       "      <script>\n",
       "        const buttonEl =\n",
       "          document.querySelector('#df-18c7ad6a-94b6-4589-92ef-ad208ec7b91c button.colab-df-convert');\n",
       "        buttonEl.style.display =\n",
       "          google.colab.kernel.accessAllowed ? 'block' : 'none';\n",
       "\n",
       "        async function convertToInteractive(key) {\n",
       "          const element = document.querySelector('#df-18c7ad6a-94b6-4589-92ef-ad208ec7b91c');\n",
       "          const dataTable =\n",
       "            await google.colab.kernel.invokeFunction('convertToInteractive',\n",
       "                                                     [key], {});\n",
       "          if (!dataTable) return;\n",
       "\n",
       "          const docLinkHtml = 'Like what you see? Visit the ' +\n",
       "            '<a target=\"_blank\" href=https://colab.research.google.com/notebooks/data_table.ipynb>data table notebook</a>'\n",
       "            + ' to learn more about interactive tables.';\n",
       "          element.innerHTML = '';\n",
       "          dataTable['output_type'] = 'display_data';\n",
       "          await google.colab.output.renderOutput(dataTable, element);\n",
       "          const docLink = document.createElement('div');\n",
       "          docLink.innerHTML = docLinkHtml;\n",
       "          element.appendChild(docLink);\n",
       "        }\n",
       "      </script>\n",
       "    </div>\n",
       "  </div>\n",
       "  "
      ],
      "text/plain": [
       "    ratings\n",
       "0       8.6\n",
       "1       9.2\n",
       "2       8.4\n",
       "3      8.55\n",
       "4   8.15625\n",
       "..      ...\n",
       "81      8.1\n",
       "82      8.1\n",
       "83      8.0\n",
       "84      8.0\n",
       "85      8.0\n",
       "\n",
       "[86 rows x 1 columns]"
      ]
     },
     "execution_count": 71,
     "metadata": {},
     "output_type": "execute_result"
    }
   ],
   "source": [
    "import pandas as pd\n",
    "df1 = pd.DataFrame (my_list, columns = ['ratings'])\n",
    "df1"
   ]
  },
  {
   "cell_type": "code",
   "execution_count": 10,
   "metadata": {
    "colab": {
     "base_uri": "https://localhost:8080/"
    },
    "id": "8u_Y894ReLFS",
    "outputId": "87fc4430-6cb3-4ca3-81e8-2eaec002bddd"
   },
   "outputs": [
    {
     "name": "stdout",
     "output_type": "stream",
     "text": [
      "[8.6, '9.2', 8.399999999999999, 8.55, 8.15625, 8.15, 8.08125, 8.20625, 8.2, 8.16875, 8.337499999999999, 8.1625, 8.212499999999999, '8.7', 8.08125, 8.08515625, 8.2, 8.3, 8.55, 8.16875, 8.19375, 8.15625, '8.6', 8.3, 8.35, 8.09375, 8.14375, 8.325, 8.25, 8.3, 8.212499999999999, 8.08125, '8.4', 8.350000000000001, 8.2, 8.350000000000001, 8.350000000000001, 8.325000000000001, 8.2, 8.1, 8.2625, 8.075, '8.3', 8.15, 8.06875, 8.1, 8.0875, 8.15, 8.25, 8.2, 8.25, 8.0296875, 8.125, '8.3', 8.075, '8.2', '8.2', '8.2', '8.2', 8.2, 8.1, 8.05, '8.2', 8.149999999999999, 8.149999999999999, 8.0375, 8.1, 8.075, '8.2', 8.0625, 8.149999999999999, 8.05, 8.05, 8.05, 8.05, 8.1, '8.1', '8.1', '8.1', '8.1', 8.1, '8.1', '8.1', '8.0', '8.0', '8.0']\n"
     ]
    }
   ],
   "source": [
    "my_list = list(yearWISErating.values())\n",
    "print(my_list)"
   ]
  },
  {
   "cell_type": "code",
   "execution_count": 17,
   "metadata": {
    "colab": {
     "base_uri": "https://localhost:8080/"
    },
    "id": "Lj7uobTL5sv0",
    "outputId": "e1956ae2-f467-45b5-aaf8-5a56d94b4167"
   },
   "outputs": [
    {
     "name": "stdout",
     "output_type": "stream",
     "text": [
      "    ratings\n",
      "0       8.6\n",
      "1       9.2\n",
      "2       8.4\n",
      "3      8.55\n",
      "4   8.15625\n",
      "..      ...\n",
      "81      8.1\n",
      "82      8.1\n",
      "83      8.0\n",
      "84      8.0\n",
      "85      8.0\n",
      "\n",
      "[86 rows x 1 columns]\n"
     ]
    }
   ],
   "source": [
    "import pandas as pd\n",
    "\n",
    "df = pd.DataFrame (my_list, columns = ['ratings'])\n",
    "print (df)"
   ]
  },
  {
   "cell_type": "code",
   "execution_count": 16,
   "metadata": {
    "colab": {
     "base_uri": "https://localhost:8080/"
    },
    "id": "x1-oqIkg7rWI",
    "outputId": "6a2613bd-5fde-4adc-b8e1-57dff8a2909b"
   },
   "outputs": [
    {
     "name": "stdout",
     "output_type": "stream",
     "text": [
      "      year\n",
      "0   (1994)\n",
      "1   (1972)\n",
      "2   (2008)\n",
      "3   (1974)\n",
      "4   (1957)\n",
      "..     ...\n",
      "81  (1924)\n",
      "82  (1928)\n",
      "83  (1955)\n",
      "84  (1967)\n",
      "85  (1934)\n",
      "\n",
      "[86 rows x 1 columns]\n"
     ]
    }
   ],
   "source": [
    "import pandas as pd\n",
    "\n",
    "df2 = pd.DataFrame (my_list1, columns = ['year'])\n",
    "print (df2)"
   ]
  },
  {
   "cell_type": "code",
   "execution_count": 92,
   "metadata": {
    "colab": {
     "base_uri": "https://localhost:8080/"
    },
    "id": "Pryon73S6h7t",
    "outputId": "5086e320-2e5a-4eb4-f40b-1f375a5ab0ad"
   },
   "outputs": [
    {
     "data": {
      "text/plain": [
       "<sqlite3.Cursor at 0x7f87f4773340>"
      ]
     },
     "execution_count": 92,
     "metadata": {},
     "output_type": "execute_result"
    }
   ],
   "source": [
    "import re\n",
    "import time\n",
    "import sqlite3\n",
    "conn = sqlite3.connect('IMDb.db')\n",
    "c = conn.cursor()\n",
    "c.execute(\"CREATE TABLE IMDb(\\\n",
    "              Name varchar(100), \\\n",
    "              ratings floatvarchar(100), \\\n",
    "              year varchar(100))\")\n"
   ]
  },
  {
   "cell_type": "code",
   "execution_count": 19,
   "metadata": {
    "id": "CUWTjtrLBRRP"
   },
   "outputs": [],
   "source": [
    "result[\"year\"].fillna(\"0\", inplace = True)"
   ]
  },
  {
   "cell_type": "code",
   "execution_count": 20,
   "metadata": {
    "id": "SBoomGWVBaZk"
   },
   "outputs": [],
   "source": [
    "result[\"ratings\"].fillna(\"0\", inplace = True)"
   ]
  },
  {
   "cell_type": "code",
   "execution_count": 79,
   "metadata": {
    "colab": {
     "base_uri": "https://localhost:8080/",
     "height": 405
    },
    "id": "eAO-oBTWBmhp",
    "outputId": "582546d2-be19-4faa-81a8-da25379c5f41"
   },
   "outputs": [
    {
     "data": {
      "text/plain": [
       "<matplotlib.collections.PathCollection at 0x7f87ff552f40>"
      ]
     },
     "execution_count": 79,
     "metadata": {},
     "output_type": "execute_result"
    },
    {
     "data": {
      "image/png": "[encoded data removed]",
      "text/plain": [
       "<Figure size 864x432 with 1 Axes>"
      ]
     },
     "metadata": {
      "needs_background": "light"
     },
     "output_type": "display_data"
    }
   ],
   "source": [
    "import pandas as pd\n",
    "import numpy as np\n",
    "import matplotlib.pyplot as plt\n",
    "x=df['year']\n",
    "y=df1['ratings']\n",
    "plt.figure(figsize=(12,6))\n",
    "ax=plt.axes()\n",
    "ax.set_xlabel(\"Ratings\")\n",
    "ax.set_ylabel(\"year\")\n",
    "ax.scatter(x,y)"
   ]
  },
  {
   "cell_type": "code",
   "execution_count": 39,
   "metadata": {
    "colab": {
     "base_uri": "https://localhost:8080/"
    },
    "id": "cAAippv1FEvj",
    "outputId": "22379515-5098-43ce-dd85-ba25792de572"
   },
   "outputs": [
    {
     "data": {
      "text/plain": [
       "year       object\n",
       "ratings    object\n",
       "dtype: object"
      ]
     },
     "execution_count": 39,
     "metadata": {},
     "output_type": "execute_result"
    }
   ],
   "source": [
    "df_new.dtypes"
   ]
  },
  {
   "cell_type": "code",
   "execution_count": 80,
   "metadata": {
    "colab": {
     "base_uri": "https://localhost:8080/",
     "height": 405
    },
    "id": "IK8MjdwVE6K9",
    "outputId": "d0211a0f-c5c4-41bd-ca09-cc62f6374a7d"
   },
   "outputs": [
    {
     "data": {
      "text/plain": [
       "LinearRegression()"
      ]
     },
     "execution_count": 80,
     "metadata": {},
     "output_type": "execute_result"
    },
    {
     "data": {
      "image/png": "[encoded data removed]",
      "text/plain": [
       "<Figure size 864x432 with 1 Axes>"
      ]
     },
     "metadata": {
      "needs_background": "light"
     },
     "output_type": "display_data"
    }
   ],
   "source": [
    "%matplotlib inline\n",
    "import pandas as pd\n",
    "import numpy as np\n",
    "from sklearn.linear_model import LinearRegression\n",
    "import matplotlib.pyplot as plt\n",
    "x=df[['year']].to_numpy()\n",
    "y=df1[['ratings']].to_numpy()\n",
    "plt.figure(figsize=(12,6))\n",
    "ax=plt.axes()\n",
    "ax.set_xlabel(\"Year\")\n",
    "ax.set_ylabel(\"Ratings\")\n",
    "ax.scatter(x,y)\n",
    "model= LinearRegression()\n",
    "model.fit(x,y)"
   ]
  },
  {
   "cell_type": "code",
   "execution_count": 81,
   "metadata": {
    "colab": {
     "base_uri": "https://localhost:8080/"
    },
    "id": "Tr1J3eCNLDWT",
    "outputId": "2b6cce79-9193-4406-8414-a8e302f3f17c"
   },
   "outputs": [
    {
     "data": {
      "text/plain": [
       "array([[-0.00015882]])"
      ]
     },
     "execution_count": 81,
     "metadata": {},
     "output_type": "execute_result"
    }
   ],
   "source": [
    "model.intercept_\n",
    "model.coef_"
   ]
  },
  {
   "cell_type": "code",
   "execution_count": 82,
   "metadata": {
    "colab": {
     "base_uri": "https://localhost:8080/"
    },
    "id": "NeVvDzjrT2AQ",
    "outputId": "0086aaea-b95f-4e85-ae9d-cc1261693dde"
   },
   "outputs": [
    {
     "data": {
      "text/plain": [
       "0.000634975785631986"
      ]
     },
     "execution_count": 82,
     "metadata": {},
     "output_type": "execute_result"
    }
   ],
   "source": [
    "model.score(x,y)"
   ]
  },
  {
   "cell_type": "code",
   "execution_count": 83,
   "metadata": {
    "colab": {
     "base_uri": "https://localhost:8080/",
     "height": 296
    },
    "id": "dYqG7O7UT6JM",
    "outputId": "ba371ec3-f051-42eb-9b9f-47bc8d3d1745"
   },
   "outputs": [
    {
     "data": {
      "text/plain": [
       "[<matplotlib.lines.Line2D at 0x7f8801c00910>]"
      ]
     },
     "execution_count": 83,
     "metadata": {},
     "output_type": "execute_result"
    },
    {
     "data": {
      "image/png": "[encoded data removed]",
      "text/plain": [
       "<Figure size 432x288 with 1 Axes>"
      ]
     },
     "metadata": {
      "needs_background": "light"
     },
     "output_type": "display_data"
    }
   ],
   "source": [
    "y_est = model.predict(x)\n",
    "ax=plt.axes()\n",
    "ax.set_xlabel(\"year\")\n",
    "ax.set_ylabel(\"Ratings\")\n",
    "ax.scatter(x,y)\n",
    "ax.plot(x,y_est)"
   ]
  },
  {
   "cell_type": "code",
   "execution_count": 85,
   "metadata": {
    "colab": {
     "base_uri": "https://localhost:8080/"
    },
    "id": "4d4B1TGmUHzS",
    "outputId": "75e6c80a-e94a-4d9c-ffc8-d9a913235bf8"
   },
   "outputs": [
    {
     "name": "stdout",
     "output_type": "stream",
     "text": [
      "Ratings: [[8.51642872]]\n"
     ]
    },
    {
     "data": {
      "text/plain": [
       "array([[8.51642872]])"
      ]
     },
     "execution_count": 85,
     "metadata": {},
     "output_type": "execute_result"
    }
   ],
   "source": [
    "x_new =np.asarray(6)\n",
    "y_pred=model.predict(x_new.reshape(1,-1))\n",
    "print(\"Ratings:\",y_pred)\n",
    "y_pred"
   ]
  },
  {
   "cell_type": "code",
   "execution_count": 101,
   "metadata": {
    "colab": {
     "base_uri": "https://localhost:8080/"
    },
    "id": "E3tehY7iV1wo",
    "outputId": "396b20c2-2d3d-4b4a-ef4a-012aa5341242"
   },
   "outputs": [
    {
     "data": {
      "text/plain": [
       "<sqlite3.Cursor at 0x7f87f4773340>"
      ]
     },
     "execution_count": 101,
     "metadata": {},
     "output_type": "execute_result"
    }
   ],
   "source": [
    "query = \"INSERT INTO IMDb VALUES (?, ?, ?)\"\n",
    "#c.execute(query, (titles,my_list, yearsList))\n",
    "c.execute('''INSERT INTO IMDb VALUES (?,?,?);''', (str(my_list[0]),str(my_list[0]),str(yearsList[0])))"
   ]
  },
  {
   "cell_type": "code",
   "execution_count": 104,
   "metadata": {
    "id": "ccTiQmBCanT_"
   },
   "outputs": [],
   "source": [
    "with open(\"IMDB.txt\", \"w\") as output:\n",
    "    output.write(str(titles))"
   ]
  }
 ],
 "metadata": {
  "colab": {
   "provenance": []
  },
  "kernelspec": {
   "display_name": "Python 3 (ipykernel)",
   "language": "python",
   "name": "python3"
  },
  "language_info": {
   "codemirror_mode": {
    "name": "ipython",
    "version": 3
   },
   "file_extension": ".py",
   "mimetype": "text/x-python",
   "name": "python",
   "nbconvert_exporter": "python",
   "pygments_lexer": "ipython3",
   "version": "3.9.13"
  }
 },
 "nbformat": 4,
 "nbformat_minor": 1
}
