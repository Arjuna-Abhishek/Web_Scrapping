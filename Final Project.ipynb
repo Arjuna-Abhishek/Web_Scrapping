{
 "cells": [
  {
   "cell_type": "code",
   "execution_count": 1,
   "id": "5f8305f9",
   "metadata": {},
   "outputs": [
    {
     "name": "stderr",
     "output_type": "stream",
     "text": [
      "C:\\Users\\abhis\\AppData\\Local\\Temp\\ipykernel_19852\\4139462692.py:6: DeprecationWarning: executable_path has been deprecated, please pass in a Service object\n",
      "  driver = webdriver.Chrome(r'C:\\Users\\ADMIN\\anaconda3\\Lib\\site-packages\\selenium\\chromedriver.exe')\n"
     ]
    },
    {
     "name": "stdout",
     "output_type": "stream",
     "text": [
      "Start with https://www.cricbuzz.com/cricket-series/4905/india-tour-of-bangladesh-2022/matches\n"
     ]
    }
   ],
   "source": [
    "import string\n",
    "import sqlite3\n",
    "import re\n",
    "import math\n",
    "from selenium import webdriver\n",
    "driver = webdriver.Chrome(r'C:\\Users\\ADMIN\\anaconda3\\Lib\\site-packages\\selenium\\chromedriver.exe')\n",
    "URL = \"https://www.cricbuzz.com/cricket-series/4905/india-tour-of-bangladesh-2022/matches\"\n",
    "print(\"Start with\",\"https://www.cricbuzz.com/cricket-series/4905/india-tour-of-bangladesh-2022/matches\")\n",
    "driver.get(URL)\n",
    "page_content = driver.page_source"
   ]
  },
  {
   "cell_type": "code",
   "execution_count": 2,
   "id": "3534c50f",
   "metadata": {},
   "outputs": [
    {
     "name": "stdout",
     "output_type": "stream",
     "text": [
      "Dec 04, Sun\n",
      "India vs Bangladesh, 1st ODI\n",
      "Shere Bangla National Stadium, Dhaka\n",
      "Bangladesh won by 1 wkt\n",
      "1:00 AM\n",
      "06:00 AM GMT / 12:00 PM LOCAL\n"
     ]
    }
   ],
   "source": [
    "from selenium.webdriver.common.by import By\n",
    "Data=driver.find_element(By.XPATH,'//*[@id=\"series-matches\"]/div[3]')\n",
    "print(Data.text)"
   ]
  },
  {
   "cell_type": "code",
   "execution_count": 3,
   "id": "e6f6ad1a",
   "metadata": {},
   "outputs": [
    {
     "name": "stdout",
     "output_type": "stream",
     "text": [
      "Dec 07, Wed\n",
      "Bangladesh vs India, 2nd ODI\n",
      "Shere Bangla National Stadium, Dhaka\n",
      "Bangladesh won by 5 runs\n",
      "1:00 AM\n",
      "06:00 AM GMT / 12:00 PM LOCAL\n"
     ]
    }
   ],
   "source": [
    "from selenium.webdriver.common.by import By\n",
    "A=driver.find_element(By.XPATH,'//*[@id=\"series-matches\"]/div[4]')\n",
    "print(A.text)"
   ]
  },
  {
   "cell_type": "code",
   "execution_count": 4,
   "id": "54ecce2b",
   "metadata": {},
   "outputs": [
    {
     "name": "stdout",
     "output_type": "stream",
     "text": [
      "Dec 10, Sat\n",
      "India vs Bangladesh, 3rd ODI\n",
      "Zahur Ahmed Chowdhury Stadium, Chattogram\n",
      "India won by 227 runs\n",
      "1:00 AM\n",
      "06:00 AM GMT / 12:00 PM LOCAL\n"
     ]
    }
   ],
   "source": [
    "from selenium.webdriver.common.by import By\n",
    "B=driver.find_element(By.XPATH,'//*[@id=\"series-matches\"]/div[5]')\n",
    "print(B.text)"
   ]
  },
  {
   "cell_type": "code",
   "execution_count": 5,
   "id": "a14cf722",
   "metadata": {},
   "outputs": [],
   "source": [
    "squad_button = driver.find_element(By.XPATH,'//*[@id=\"page-wrapper\"]/div[3]/nav/a[5]')\n",
    "squad_button.click()\n",
    "ODI_button= driver.find_element(By.XPATH,'//*[@id=\"24790\"]')\n",
    "ODI_button.click()"
   ]
  },
  {
   "cell_type": "code",
   "execution_count": 6,
   "id": "79e8c8dc",
   "metadata": {},
   "outputs": [
    {
     "name": "stdout",
     "output_type": "stream",
     "text": [
      "BATSMEN\n",
      "Rohit Sharma (Captain)\n",
      "Batsman\n",
      "Shikhar Dhawan\n",
      "Batsman\n",
      "Virat Kohli\n",
      "Batsman\n",
      "Rajat Patidar\n",
      "Batsman\n",
      "Shreyas Iyer\n",
      "Batsman\n",
      "Rahul Tripathi\n",
      "Batsman\n",
      "ALL ROUNDER\n",
      "Washington Sundar\n",
      "Batting Allrounder\n",
      "Axar Patel\n",
      "Bowling Allrounder\n",
      "Shahbaz Ahmed\n",
      "Bowling Allrounder\n",
      "WICKET KEEPER\n",
      "KL Rahul\n",
      "WK-Batsman\n",
      "Ishan Kishan (Keeper)\n",
      "WK-Batsman\n",
      "BOWLER\n",
      "Shardul Thakur\n",
      "Bowler\n",
      "Mohammed Siraj\n",
      "Bowler\n",
      "Deepak Chahar\n",
      "Bowler\n",
      "Kuldeep Sen\n",
      "Bowler\n",
      "Umran Malik\n",
      "Bowler\n",
      "Kuldeep Yadav\n",
      "Bowler\n"
     ]
    }
   ],
   "source": [
    "from selenium.webdriver.common.by import By\n",
    "India_squad=driver.find_element(By.XPATH,'//*[@id=\"squadPlayers\"]')\n",
    "print(India_squad.text)"
   ]
  },
  {
   "cell_type": "code",
   "execution_count": 7,
   "id": "2a3bca68",
   "metadata": {},
   "outputs": [],
   "source": [
    "import pandas as pd \n",
    "data = [India_squad.text] \n",
    "df = pd.DataFrame(data) \n",
    "df.to_csv('filename.csv', index=False, header=False)"
   ]
  },
  {
   "cell_type": "code",
   "execution_count": 8,
   "id": "c4efa67f",
   "metadata": {},
   "outputs": [],
   "source": [
    "ODI_Bangla_button= driver.find_element(By.XPATH,'//*[@id=\"26197\"]')\n",
    "ODI_Bangla_button.click()"
   ]
  },
  {
   "cell_type": "code",
   "execution_count": 10,
   "id": "45676f47",
   "metadata": {},
   "outputs": [
    {
     "name": "stdout",
     "output_type": "stream",
     "text": [
      "BATSMEN\n",
      "Yasir Ali\n",
      "Batsman\n",
      "Najmul Hossain Shanto\n",
      "Batsman\n",
      "ALL ROUNDER\n",
      "Shakib Al Hasan\n",
      "Batting Allrounder\n",
      "Afif Hossain\n",
      "Batting Allrounder\n",
      "Mahmudullah\n",
      "Batting Allrounder\n",
      "Mehidy Hasan Miraz\n",
      "Bowling Allrounder\n",
      "WICKET KEEPER\n",
      "Litton Das (Captain)\n",
      "WK-Batsman\n",
      "Anamul Haque\n",
      "WK-Batsman\n",
      "Mushfiqur Rahim\n",
      "WK-Batsman\n",
      "Nurul Hasan\n",
      "WK-Batsman\n",
      "BOWLER\n",
      "Mustafizur Rahman\n",
      "Bowler\n",
      "Taskin Ahmed\n",
      "Bowler\n",
      "Hasan Mahmud\n",
      "Bowler\n",
      "Ebadot Hossain\n",
      "Bowler\n",
      "Nasum Ahmed\n",
      "Bowler\n"
     ]
    }
   ],
   "source": [
    "B_squad=driver.find_element(By.XPATH,'//*[@id=\"squadPlayers\"]')\n",
    "print(B_squad.text)"
   ]
  },
  {
   "cell_type": "code",
   "execution_count": 12,
   "id": "29f39e28",
   "metadata": {},
   "outputs": [],
   "source": [
    "import pandas as pd \n",
    "data = [B_squad.text] \n",
    "df = pd.DataFrame(data) \n",
    "df.to_csv('filename2.csv','a', index=False, header=False)"
   ]
  },
  {
   "cell_type": "code",
   "execution_count": 13,
   "id": "ffb3ec0d",
   "metadata": {},
   "outputs": [],
   "source": [
    "Stats_button= driver.find_element(By.XPATH,'//*[@id=\"page-wrapper\"]/div[3]/nav/a[7]')\n",
    "Stats_button.click()"
   ]
  },
  {
   "cell_type": "code",
   "execution_count": 14,
   "id": "fbaf48ae",
   "metadata": {},
   "outputs": [
    {
     "name": "stdout",
     "output_type": "stream",
     "text": [
      "POS PLAYER MATCHES INNS RUNS AVG SR 4S 6S\n",
      "1 Ishan Kishan 1 1 210 210.00 160.31 24 10\n",
      "2 Mehidy Hasan Miraz 3 3 141 141.00 111.02 12 6\n",
      "3 Virat Kohli 3 3 127 42.33 113.39 13 2\n",
      "4 Mahmudullah 3 3 111 37.00 70.70 8 1\n",
      "5 Shreyas Iyer 3 3 109 36.33 74.15 8 3\n",
      "6 KL Rahul 3 3 95 31.67 87.96 6 4\n",
      "7 Shakib Al Hasan 3 3 80 26.67 74.07 8 -\n",
      "8 Rohit Sharma 2 2 78 78.00 132.20 7 6\n",
      "9 Litton Das 3 3 77 25.67 68.75 8 2\n",
      "10 Axar Patel 2 2 76 38.00 104.11 3 4\n",
      "11 Washington Sundar 3 3 67 22.33 75.28 5 1\n",
      "12 Mushfiqur Rahim 3 3 37 12.33 45.12 2 -\n",
      "13 Anamul Haque 3 3 33 11.00 73.33 4 1\n",
      "14 Yasir Ali 1 1 25 25.00 83.33 2 1\n",
      "15 Mustafizur Rahman 3 2 23 23.00 82.14 4 -\n"
     ]
    }
   ],
   "source": [
    "Bat_Stats=driver.find_element(By.XPATH,'//*[@id=\"seriesStatsTable\"]')\n",
    "print(Bat_Stats.text)"
   ]
  },
  {
   "cell_type": "code",
   "execution_count": 15,
   "id": "efb8af26",
   "metadata": {},
   "outputs": [],
   "source": [
    "Bowling_button= driver.find_element(By.XPATH,'//*[@id=\"seriesStats\"]/div[1]/div/a[10]')\n",
    "Bowling_button.click()"
   ]
  },
  {
   "cell_type": "code",
   "execution_count": 16,
   "id": "483c7f19",
   "metadata": {},
   "outputs": [
    {
     "name": "stdout",
     "output_type": "stream",
     "text": [
      "POS PLAYER MATCHES OVERS BALLS WKTS AVG RUNS 4-FERS 5-FERS\n",
      "1 Shakib Al Hasan 3 30.0 180 9 15.89 143 - 1\n",
      "2 Ebadot Hossain 3 27.2 164 9 19.11 172 1 -\n",
      "3 Washington Sundar 3 16.0 96 6 9.33 56 - -\n",
      "4 Mohammed Siraj 3 25.0 150 6 22.00 132 - -\n",
      "5 Shardul Thakur 3 24.0 144 4 24.50 98 - -\n",
      "6 Umran Malik 2 18.0 108 4 25.25 101 - -\n",
      "7 Mehidy Hasan Miraz 3 25.1 151 4 41.25 165 - -\n",
      "8 Mustafizur Rahman 3 27.0 162 2 64.00 128 - -\n",
      "9 Axar Patel 2 12.0 72 2 31.00 62 - -\n",
      "10 Kuldeep Sen 1 5.0 30 2 18.50 37 - -\n",
      "11 Taskin Ahmed 1 9.0 54 2 44.50 89 - -\n",
      "12 Deepak Chahar 2 11.0 66 1 44.00 44 - -\n",
      "13 Kuldeep Yadav 1 10.0 60 1 53.00 53 - -\n",
      "14 Mahmudullah 3 4.5 29 1 44.00 44 - -\n"
     ]
    }
   ],
   "source": [
    "Bowl_Stats=driver.find_element(By.XPATH,'//*[@id=\"seriesStats\"]/div[2]')\n",
    "print(Bowl_Stats.text)"
   ]
  },
  {
   "cell_type": "code",
   "execution_count": null,
   "id": "ddaeb838",
   "metadata": {},
   "outputs": [],
   "source": []
  }
 ],
 "metadata": {
  "kernelspec": {
   "display_name": "Python 3 (ipykernel)",
   "language": "python",
   "name": "python3"
  },
  "language_info": {
   "codemirror_mode": {
    "name": "ipython",
    "version": 3
   },
   "file_extension": ".py",
   "mimetype": "text/x-python",
   "name": "python",
   "nbconvert_exporter": "python",
   "pygments_lexer": "ipython3",
   "version": "3.9.13"
  }
 },
 "nbformat": 4,
 "nbformat_minor": 5
}
